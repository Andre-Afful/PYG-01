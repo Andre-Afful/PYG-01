{
 "cells": [
  {
   "cell_type": "code",
   "execution_count": 1,
   "metadata": {},
   "outputs": [],
   "source": [
    "# import libraries\n",
    "from datetime import datetime\n",
    "import os\n",
    "import csv\n",
    "import pandas as pd\n",
    "\n",
    "# create file.csv\n",
    "def createCSV():\n",
    "    # check if Nana_Time_Tracker.csv exists already\n",
    "    if os.path.exists('./Nana_Time_Tracker.csv'):\n",
    "        return\n",
    "    # creates Nana_Time_Tracker.csv with columns sonl\n",
    "    else:\n",
    "        columns = pd.DataFrame(columns=['Date', 'Client_ID' , 'Time_Started', 'Time_Ended', \n",
    "                              'No_of_Hours', 'Money_Earned'])\n",
    "        # save file.csv\n",
    "        columns.to_csv('./Nana_Time_Tracker.csv')\n",
    "        return\n",
    "\n",
    "# get the date and time from the system\n",
    "def getDateTime():\n",
    "        date_time = datetime.now()\n",
    "        date = date_time.date()\n",
    "        time = date_time.time()\n",
    "        return date, time\n",
    "\n",
    "# combine the date and time \n",
    "def combineDateTime(date, time):\n",
    "    date_time = datetime.combine(date, time)\n",
    "    return date_time\n",
    "\n",
    "\n",
    "# add parameters to Nana_Time_Tracker.csv\n",
    "def addToCSV(date, Client_ID, time_started, time_ended, no_of_hours, money_earned):\n",
    "    my_csv_list = ['',date, Client_ID, time_started, time_ended, no_of_hours, money_earned]\n",
    "    my_csv_file = open('./Nana_Time_Tracker.csv', 'a')\n",
    "    writer = csv.writer(my_csv_file, delimiter=',')\n",
    "    writer.writerow(my_csv_list)\n",
    "    my_csv_file.flush()\n",
    "    my_csv_file.close()\n",
    "    return 1"
   ]
  },
  {
   "cell_type": "code",
   "execution_count": null,
   "metadata": {},
   "outputs": [],
   "source": []
  },
  {
   "cell_type": "code",
   "execution_count": null,
   "metadata": {},
   "outputs": [],
   "source": []
  }
 ],
 "metadata": {
  "kernelspec": {
   "display_name": "Python 3",
   "language": "python",
   "name": "python3"
  },
  "language_info": {
   "codemirror_mode": {
    "name": "ipython",
    "version": 3
   },
   "file_extension": ".py",
   "mimetype": "text/x-python",
   "name": "python",
   "nbconvert_exporter": "python",
   "pygments_lexer": "ipython3",
   "version": "3.7.6"
  }
 },
 "nbformat": 4,
 "nbformat_minor": 4
}
